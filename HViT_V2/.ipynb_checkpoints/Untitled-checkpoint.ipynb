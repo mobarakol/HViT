{
 "cells": [
  {
   "cell_type": "code",
   "execution_count": null,
   "id": "be7a08a7",
   "metadata": {},
   "outputs": [],
   "source": [
    "import pickle\n",
    "\n",
    "pkl_cholec40 = '../../CholecT80Classification/train_val_paths_labels_adjusted.pkl'\n",
    "pkl_endovis18 = '../../CholecT80Classification/miccai2018_train_val_paths_labels_adjusted.pkl'\n",
    "with open(pkl_cholec40, 'rb') as f:\n",
    "    train_test_paths_labels = pickle.load(f)\n",
    "    \n",
    "train_paths_40 = train_test_paths_labels[0]\n",
    "val_paths_40 = train_test_paths_labels[1]\n",
    "train_labels_40 = train_test_paths_labels[2]\n",
    "val_labels_40 = train_test_paths_labels[3]\n",
    "    \n",
    "print(len(train_paths_40), len(val_paths_40))\n",
    "print(len(train_labels_40), len(val_labels_40))\n",
    "\n",
    "\n",
    "with open(pkl_endovis18, 'rb') as f:\n",
    "    train_test_paths_labels = pickle.load(f)\n",
    "    \n",
    "train_paths_18 = train_test_paths_labels[0]\n",
    "val_paths_18 = train_test_paths_labels[1]\n",
    "train_labels_18 = train_test_paths_labels[2]\n",
    "val_labels_18 = train_test_paths_labels[3]\n",
    "    \n",
    "print(len(train_paths_18), len(val_paths_18))\n",
    "print(len(train_labels_18), len(val_labels_18))\n"
   ]
  },
  {
   "cell_type": "code",
   "execution_count": 15,
   "id": "2af7ffb3",
   "metadata": {},
   "outputs": [
    {
     "data": {
      "text/plain": [
       "('/media/mmlab/dataset/mengya/instruments18_caption/seq_2/left_frames/frame000.png',\n",
       " [['1', '1', '1', '0', '0', '0', '1', '0', '0', '0', '1']])"
      ]
     },
     "execution_count": 15,
     "metadata": {},
     "output_type": "execute_result"
    }
   ],
   "source": [
    "train_paths_18[0], train_labels_18[0], "
   ]
  },
  {
   "cell_type": "code",
   "execution_count": 16,
   "id": "023464ca",
   "metadata": {},
   "outputs": [
    {
     "data": {
      "text/plain": [
       "('./cholec80/cropped_image/1/0.png',\n",
       " [['0', '1', '0', '0', '0', '0', '0', '0', '0', '0', '1']])"
      ]
     },
     "execution_count": 16,
     "metadata": {},
     "output_type": "execute_result"
    }
   ],
   "source": [
    "train_paths_40[0], train_labels_40[0], "
   ]
  },
  {
   "cell_type": "code",
   "execution_count": 18,
   "id": "6a4de05d",
   "metadata": {},
   "outputs": [
    {
     "data": {
      "text/plain": [
       "'./cholec80/cropped_image/40/55525.png'"
      ]
     },
     "execution_count": 18,
     "metadata": {},
     "output_type": "execute_result"
    }
   ],
   "source": [
    "train_dirs = train_paths_18 + train_paths_40\n",
    "train_dirs[-1]"
   ]
  },
  {
   "cell_type": "code",
   "execution_count": 19,
   "id": "1e866089",
   "metadata": {},
   "outputs": [],
   "source": [
    "train_labels = train_labels_40 + train_labels_18"
   ]
  },
  {
   "cell_type": "code",
   "execution_count": 27,
   "id": "28d79947",
   "metadata": {},
   "outputs": [
    {
     "data": {
      "text/plain": [
       "[['0', '1', '0', '0', '0', '0', '0', '0', '1', '0', '1']]"
      ]
     },
     "execution_count": 27,
     "metadata": {},
     "output_type": "execute_result"
    }
   ],
   "source": [
    "train_labels_40[100]"
   ]
  },
  {
   "cell_type": "code",
   "execution_count": 26,
   "id": "964b21ed",
   "metadata": {},
   "outputs": [
    {
     "data": {
      "text/plain": [
       "[['1', '1', '1', '0', '0', '0', '0', '0', '0', '0', '1']]"
      ]
     },
     "execution_count": 26,
     "metadata": {},
     "output_type": "execute_result"
    }
   ],
   "source": [
    "train_labels_18[100]"
   ]
  },
  {
   "cell_type": "code",
   "execution_count": null,
   "id": "1c2b19ef",
   "metadata": {},
   "outputs": [],
   "source": []
  }
 ],
 "metadata": {
  "kernelspec": {
   "display_name": "Python 3",
   "language": "python",
   "name": "python3"
  },
  "language_info": {
   "codemirror_mode": {
    "name": "ipython",
    "version": 3
   },
   "file_extension": ".py",
   "mimetype": "text/x-python",
   "name": "python",
   "nbconvert_exporter": "python",
   "pygments_lexer": "ipython3",
   "version": "3.6.12"
  }
 },
 "nbformat": 4,
 "nbformat_minor": 5
}
